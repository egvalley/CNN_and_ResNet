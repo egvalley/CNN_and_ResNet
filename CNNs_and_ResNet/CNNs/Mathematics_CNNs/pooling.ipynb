{
 "cells": [
  {
   "cell_type": "markdown",
   "metadata": {},
   "source": [
    "# Establish CNNs from scratch\n",
    "Max-pooling kernel is more efficient than the average-pooling kernel, because the feature maps would only retain the significant features and eliminate unimportant information, which is just what the neural  network need to learn. "
   ]
  },
  {
   "cell_type": "code",
   "execution_count": 4,
   "metadata": {},
   "outputs": [],
   "source": [
    "import numpy as np\n",
    "from layer import Layer"
   ]
  },
  {
   "cell_type": "markdown",
   "metadata": {},
   "source": [
    "Define $\\Omega(y_{mn})$ as the set of input pixels that contribute to output $y_{mn}$.\n",
    "$$\n",
    "\\Omega(y_{mn})=\n",
    "\\begin{bmatrix}\n",
    "x_{mn} & x_{(m+1)n} & \\dots & x_{(m+i)n} \\\\\n",
    "x_{m(n+1)} & x_{(m+1)(n+1)} & \\dots & x_{(m+i)(n+1)} \\\\\n",
    "\\vdots & \\vdots & \\ddots & \\vdots \\\\\n",
    "x_{m(n+j)} & x_{(m+1)(n+j)} & \\dots & x_{(m+i)(n+j)} \\\\\n",
    "\\end{bmatrix}\n",
    "$$  \n",
    "where $I \\times J$ is the pooling kernel size.  \n",
    "\\\n",
    "The formula of **Forward Propagation** goes as follows:\n",
    "$$\n",
    "y_{mn}=P_{max}[\\Omega(y_{mn})]=\\max\\Omega(y_{mn})\n",
    "$$  \n",
    "The formula of **Backward Propagation** goes as follows:\n",
    "$$\n",
    "\\frac{\\partial E}{\\partial x_{ab}}=\n",
    "\\begin{cases}\n",
    "\\frac{\\partial E}{\\partial y_{mn}} & \\text{if } x_{ab}=P_{max}[\\Omega(y_{mn})] \\\\\n",
    "0 & \\text{otherwise }\\\\\n",
    "\\end{cases}\n",
    "$$\n",
    "\n"
   ]
  },
  {
   "cell_type": "code",
   "execution_count": 3,
   "metadata": {},
   "outputs": [],
   "source": [
    "class MaxPooling(Layer):\n",
    "    def __init__(self, input_shape:tuple, pooling_kernel_size:int, stride:int, depth:int):\n",
    "        input_depth, input_height, input_width = input_shape\n",
    "        self.depth = depth\n",
    "        self.pooling_kernel_size = pooling_kernel_size\n",
    "        self.input_shape = input_shape\n",
    "        self.output_shape = (depth, (input_height - pooling_kernel_size)//stride + 1, (input_width - pooling_kernel_size)//stride + 1)\n",
    "        self.max_indices = None\n",
    "        \n",
    "    def forward(self, input:np.ndarray):\n",
    "        self.input = input\n",
    "        self.output = np.random.randn(*self.output_shape)\n",
    "        self.max_indices = np.zeros((*self.output_shape,2),dtype=np.int8)\n",
    "        for d in range(self.output_shape[0]):\n",
    "            for i in range(self.output_shape[1]):\n",
    "                for j in range(self.output_shape[2]):\n",
    "                    window = input[d, i:i+self.pooling_kernel_size, j:j+self.pooling_kernel_size]\n",
    "                    self.output[d, i // self.pooling_kernel_size, j // self.pooling_kernel_size] = np.max(window)\n",
    "                    # Store the indices of max values for the backward pass\n",
    "                    index = np.unravel_index(window.argmax(), window.shape)\n",
    "                    self.max_indices[d, i // self.pooling_kernel_size, j // self.pooling_kernel_size] = [i + index[0], j + index[1]]\n",
    "        return self.output\n",
    "\n",
    "\n",
    "    def backward(self, output_gradient, learning_rate):\n",
    "        input_gradient = np.zeros(self.input_shape)\n",
    "\n",
    "        for d in range(self.output_shape[0]):\n",
    "            for i in range(self.output_shape[1]):\n",
    "                for j in range(self.output_shape[2]):\n",
    "                    max_i, max_j = self.max_indices[d, i, j]\n",
    "                    input_gradient[d, max_i, max_j] += output_gradient[d, i, j]\n",
    "                    \n",
    "\n",
    "        return input_gradient"
   ]
  }
 ],
 "metadata": {
  "kernelspec": {
   "display_name": "cnns",
   "language": "python",
   "name": "python3"
  },
  "language_info": {
   "codemirror_mode": {
    "name": "ipython",
    "version": 3
   },
   "file_extension": ".py",
   "mimetype": "text/x-python",
   "name": "python",
   "nbconvert_exporter": "python",
   "pygments_lexer": "ipython3",
   "version": "3.8.18"
  },
  "orig_nbformat": 4
 },
 "nbformat": 4,
 "nbformat_minor": 2
}
