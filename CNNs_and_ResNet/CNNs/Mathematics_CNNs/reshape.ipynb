{
 "cells": [
  {
   "cell_type": "markdown",
   "id": "d375b451-fc7f-462b-839e-2ad1bc566466",
   "metadata": {},
   "source": [
    "# Establish CNNs from scratch\n",
    "Reshape layer lies between the last convolutional layer and the fully connnected layer.   \n",
    "The main work of the dense layer is flattening the last feature maps into one column vector as the input of the fully connnected layer in **Forward Propogation** and the inverse proccess in **Backward Propogation**."
   ]
  },
  {
   "cell_type": "code",
   "execution_count": 1,
   "id": "f24a7fb6-a590-49b5-b27f-afa2efc97839",
   "metadata": {},
   "outputs": [],
   "source": [
    "import numpy as np\n",
    "from layer import Layer"
   ]
  },
  {
   "cell_type": "code",
   "execution_count": 2,
   "id": "a6b68a6e-73f2-4df9-b34f-64ceb571cd7f",
   "metadata": {},
   "outputs": [],
   "source": [
    "class Reshape(Layer):\n",
    "    def __init__(self, input_shape, output_shape):\n",
    "        self.input_shape = input_shape\n",
    "        self.output_shape = output_shape\n",
    "\n",
    "    # Mapping from the last convolution-pooling layer to the fully connected layer\n",
    "    def forward(self, input):\n",
    "        return np.reshape(input, self.output_shape)\n",
    "    # Mapping from the fully connected layer to the convolution-pooling layer\n",
    "    def backward(self, output_gradient, learning_rate):\n",
    "        return np.reshape(output_gradient, self.input_shape)"
   ]
  }
 ],
 "metadata": {
  "kernelspec": {
   "display_name": "Python 3 (ipykernel)",
   "language": "python",
   "name": "python3"
  },
  "language_info": {
   "codemirror_mode": {
    "name": "ipython",
    "version": 3
   },
   "file_extension": ".py",
   "mimetype": "text/x-python",
   "name": "python",
   "nbconvert_exporter": "python",
   "pygments_lexer": "ipython3",
   "version": "3.8.18"
  }
 },
 "nbformat": 4,
 "nbformat_minor": 5
}
